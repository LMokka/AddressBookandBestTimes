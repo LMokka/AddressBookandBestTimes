{
 "cells": [
  {
   "cell_type": "markdown",
   "id": "030d6b4d",
   "metadata": {},
   "source": [
    "Exercises\n",
    "1) Create a program that allows a user to continue to add people to an address book until the user quits. Once the user quits, break out of the loop and print out the name and address of everyone in the address book\n",
    "Steps\n",
    "Create a function that will ask user for name and addresses and stores them in a dictionary\n",
    "Define an empty dictionary with which to work (global or local variable?)\n",
    "Begin a loop that will continue to ask a user for information until the user \"quits\"\n",
    "If the user does not quit, ask for a name and address and store the variables into variables\n",
    "Add information to the dictionary with name as the key and address as the value\n",
    "If the user does quit, end the loop\n",
    "Print out the information from the dictionary in a formatted way\n",
    "Execute/Call the function"
   ]
  },
  {
   "cell_type": "code",
   "execution_count": 1,
   "id": "3718e2d1",
   "metadata": {},
   "outputs": [
    {
     "name": "stdout",
     "output_type": "stream",
     "text": [
      "Enter name  Brian\n",
      "Enter address  Tatyana\n",
      "Would you like to continue entering names and addresses enter Y for Yes or N for No  N\n"
     ]
    },
    {
     "data": {
      "text/plain": [
       "{'Brian': 'Tatyana'}"
      ]
     },
     "execution_count": 1,
     "metadata": {},
     "output_type": "execute_result"
    }
   ],
   "source": [
    "from IPython.display import clear_output\n",
    "\n",
    "def addressbook():\n",
    "    phonebook = {}\n",
    "    ask = 'Y'\n",
    "    while ask == 'Y':  \n",
    "        name = input(\"Enter name  \")\n",
    "        address = input(\"Enter address  \")\n",
    "        phonebook[name] = address\n",
    "        ask = input(\"Would you like to continue entering names and addresses enter Y for Yes or N for No  \")\n",
    "        if ask == 'Y':\n",
    "            continue\n",
    "        else:\n",
    "            return(phonebook)\n",
    "            break\n",
    "    \n",
    "addressbook()"
   ]
  },
  {
   "cell_type": "markdown",
   "id": "7b680776",
   "metadata": {},
   "source": [
    "2) Best Time to Meet\n",
    "Billy is trying to figure out if there is a time that he and his team can meet to work on the project. His three teammates each give him a list of times they are available ('HH:MM' 24-hour). Create a function that will take in an original list plus any number of lists of teammate's available times (remember *args) and return a list of times where everyone can meet."
   ]
  },
  {
   "cell_type": "code",
   "execution_count": 2,
   "id": "c7d4bbba",
   "metadata": {},
   "outputs": [
    {
     "name": "stdout",
     "output_type": "stream",
     "text": [
      "['12:00', '14:30']\n"
     ]
    }
   ],
   "source": [
    "person1 = ['09:00', '10:30', '11:30', '12:00', '13:00', '14:30']\n",
    "person2 = ['09:30', '10:00', '10:30', '12:00', '14:30', '16:00']\n",
    "person3 = ['09:00', '09:30', '11:00', '11:30', '12:00', '13:30', '14:30', '15:00']\n",
    "person4 = ['11:00', '11:30', '12:00', '14:00', '14:30', '16:30', '17:00']\n",
    "# Available Times: '12:00' and '14:30'\n",
    "# Convert the lists to sets and take the intersection of all the values\n",
    "\n",
    "def availabletimes(person1,*persons):\n",
    "    intersect = set(person1)\n",
    "    for person in persons:\n",
    "        intersect = intersect&set(person)\n",
    "    return list(intersect)\n",
    "\n",
    "print(availabletimes(person1,person2,person3,person4))"
   ]
  }
 ],
 "metadata": {
  "kernelspec": {
   "display_name": "Python 3",
   "language": "python",
   "name": "python3"
  },
  "language_info": {
   "codemirror_mode": {
    "name": "ipython",
    "version": 3
   },
   "file_extension": ".py",
   "mimetype": "text/x-python",
   "name": "python",
   "nbconvert_exporter": "python",
   "pygments_lexer": "ipython3",
   "version": "3.8.8"
  }
 },
 "nbformat": 4,
 "nbformat_minor": 5
}
